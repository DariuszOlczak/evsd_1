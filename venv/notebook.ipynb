{
 "cells": [
  {
   "cell_type": "code",
   "id": "initial_id",
   "metadata": {
    "collapsed": true,
    "ExecuteTime": {
     "end_time": "2025-10-29T15:56:48.590817Z",
     "start_time": "2025-10-29T15:56:48.007163Z"
    }
   },
   "source": [
    "import pandas as pd\n",
    "import numpy as np\n",
    "from analysis import Analyzer\n",
    "\n",
    "\n",
    "df = pd.read_csv(\"../Data.csv\")\n"
   ],
   "outputs": [],
   "execution_count": 14
  },
  {
   "metadata": {
    "ExecuteTime": {
     "end_time": "2025-10-29T15:56:48.731251Z",
     "start_time": "2025-10-29T15:56:48.614027Z"
    }
   },
   "cell_type": "code",
   "source": [
    "print(\"-------Data Overview-------\")\n",
    "print(\"Columns: \", df.columns.tolist())\n",
    "print(\"\\nData Types: \")\n",
    "print(df.dtypes)\n",
    "print(\"Missing values per column: \")\n",
    "print(df.isnull().sum())\n",
    "print(\"Unique values in first few coliumns:\")\n",
    "\n",
    "#check for empty strings or missing values\n",
    "for col in df.columns[:5]:\n",
    "    #First 10 unique values\n",
    "    print(f\"{col}: {df[col].unique()[:10]}\")"
   ],
   "id": "2de69dc9579cb86a",
   "outputs": [
    {
     "name": "stdout",
     "output_type": "stream",
     "text": [
      "-------Data Overview-------\n",
      "Columns:  ['Series Name', 'Country Name', '2000', '2001', '2002', '2003', '2004', '2005', '2006', '2007', '2008', '2009', '2010', '2011', '2012', '2013', '2014', '2015', '2016', '2017', '2018', '2019', '2020', '2021', '2022', '2023']\n",
      "\n",
      "Data Types: \n",
      "Series Name     object\n",
      "Country Name    object\n",
      "2000            object\n",
      "2001            object\n",
      "2002            object\n",
      "2003            object\n",
      "2004            object\n",
      "2005            object\n",
      "2006            object\n",
      "2007            object\n",
      "2008            object\n",
      "2009            object\n",
      "2010            object\n",
      "2011            object\n",
      "2012            object\n",
      "2013            object\n",
      "2014            object\n",
      "2015            object\n",
      "2016            object\n",
      "2017            object\n",
      "2018            object\n",
      "2019            object\n",
      "2020            object\n",
      "2021            object\n",
      "2022            object\n",
      "2023            object\n",
      "dtype: object\n",
      "Missing values per column: \n",
      "Series Name     0\n",
      "Country Name    0\n",
      "2000            0\n",
      "2001            0\n",
      "2002            0\n",
      "2003            0\n",
      "2004            0\n",
      "2005            0\n",
      "2006            0\n",
      "2007            0\n",
      "2008            0\n",
      "2009            0\n",
      "2010            0\n",
      "2011            0\n",
      "2012            0\n",
      "2013            0\n",
      "2014            0\n",
      "2015            0\n",
      "2016            0\n",
      "2017            0\n",
      "2018            0\n",
      "2019            0\n",
      "2020            0\n",
      "2021            0\n",
      "2022            0\n",
      "2023            0\n",
      "dtype: int64\n",
      "Unique values in first few coliumns:\n",
      "Series Name: ['Adolescent fertility rate (births per 1,000 women ages 15-19)'\n",
      " 'Adults (ages 15+) and children (ages 0-14) newly infected with HIV'\n",
      " 'Adults (ages 15-49) newly infected with HIV'\n",
      " 'Age dependency ratio (% of working-age population)'\n",
      " 'Age dependency ratio, old (% of working-age population)'\n",
      " 'Age dependency ratio, young (% of working-age population)'\n",
      " 'Antiretroviral therapy coverage (% of people living with HIV)'\n",
      " 'Birth rate, crude (per 1,000 people)'\n",
      " 'Births attended by skilled health staff (% of total)'\n",
      " 'Children (0-14) living with HIV']\n",
      "Country Name: ['Afghanistan' 'Albania' 'Algeria' 'American Samoa' 'Andorra' 'Angola'\n",
      " 'Antigua and Barbuda' 'Argentina' 'Armenia' 'Aruba']\n",
      "2000: ['154.31' '14.743' '8.658' '48.376' '9.075' '147.693' '61.851' '65.808'\n",
      " '37.273' '43.729']\n",
      "2001: ['152.471' '8.811' '8.065' '46.153' '9.84' '147.253' '59.991' '63.491'\n",
      " '33.063' '40.463']\n",
      "2002: ['150.161' '13.511' '7.74' '44.466' '9.384' '150.196' '56.432' '62.126'\n",
      " '32.184' '38.185']\n"
     ]
    }
   ],
   "execution_count": 15
  },
  {
   "metadata": {
    "ExecuteTime": {
     "end_time": "2025-10-29T15:59:01.876757Z",
     "start_time": "2025-10-29T15:58:58.482256Z"
    }
   },
   "cell_type": "code",
   "source": [
    "print(\"Data size before cleaning: \", df.shape)\n",
    "df = df.replace([' ', '', 'NA', 'N/A', 'null'], np.nan)\n",
    "print(\"Missing Values after initial cleaning: \", df.isnull().sum())\n",
    "print(\"Data size after cleaning: \", df.shape)\n",
    "initial_rows = len(df)\n",
    "#remove rows where all values are NaN\n",
    "df = df.dropna(how='all')\n",
    "print(f\"Rows removed:  {initial_rows - len(df)}\")\n",
    "\n",
    "#Clean country name columns\n",
    "df_clean = df.dropna(subset=['Country Name'])\n",
    "print(f\"After removing rows without country name:  {len(df_clean)} rows\")\n",
    "\n",
    "#Clean year coumns convert to numeric\n",
    "year_columns = [str(year) for year in range(2000, 2024)]\n",
    "for col in year_columns:\n",
    "    if col in df_clean.columns:\n",
    "        df_clean[col] = pd.to_numeric(df_clean[col], errors='coerce')\n",
    "print(\"Cleaning columns ended\")\n",
    "\n",
    "#Saving result to csv\n",
    "df_clean.to_csv('cleaned_data.csv', index=False)\n",
    "print(\"Cleaned data saved to cleaned_data.csv\")\n",
    "\n",
    "#Summary\n",
    "print(f\"Original shape: {df.shape}\")\n",
    "print(f\"Cleaned shape: {df_clean.shape}\")\n",
    "\n",
    "print(\"Testing Data Analyser\")\n",
    "analyzer = Analyzer(df_clean)\n",
    "print(\"Series: \", len(analyzer.get_series_name()))"
   ],
   "id": "e909d0ab1f3e687b",
   "outputs": [
    {
     "name": "stdout",
     "output_type": "stream",
     "text": [
      "Data size before cleaning:  (23870, 26)\n",
      "Missing Values after initial cleaning:  Series Name         0\n",
      "Country Name        0\n",
      "2000             5137\n",
      "2001             5162\n",
      "2002             5076\n",
      "2003             4757\n",
      "2004             4647\n",
      "2005             4664\n",
      "2006             4638\n",
      "2007             4626\n",
      "2008             4576\n",
      "2009             4554\n",
      "2010             4487\n",
      "2011             4497\n",
      "2012             4512\n",
      "2013             4454\n",
      "2014             4446\n",
      "2015             4476\n",
      "2016             4456\n",
      "2017             4498\n",
      "2018             4496\n",
      "2019             4629\n",
      "2020             4889\n",
      "2021             5634\n",
      "2022             7609\n",
      "2023            14959\n",
      "dtype: int64\n",
      "Data size after cleaning:  (23870, 26)\n",
      "Rows removed:  0\n",
      "After removing rows without country name:  23870 rows\n",
      "Cleaning columns ended\n",
      "Cleaned data saved to cleaned_data.csv\n",
      "Original shape: (23870, 26)\n",
      "Cleaned shape: (23870, 26)\n",
      "Testing Data Analyser\n",
      "Series:  110\n"
     ]
    }
   ],
   "execution_count": 17
  },
  {
   "metadata": {
    "ExecuteTime": {
     "end_time": "2025-10-29T15:56:48.770678Z",
     "start_time": "2025-10-29T15:56:48.759754Z"
    }
   },
   "cell_type": "code",
   "source": "",
   "id": "55cdd3f793a0568e",
   "outputs": [],
   "execution_count": null
  }
 ],
 "metadata": {
  "kernelspec": {
   "display_name": "Python 3",
   "language": "python",
   "name": "python3"
  },
  "language_info": {
   "codemirror_mode": {
    "name": "ipython",
    "version": 2
   },
   "file_extension": ".py",
   "mimetype": "text/x-python",
   "name": "python",
   "nbconvert_exporter": "python",
   "pygments_lexer": "ipython2",
   "version": "2.7.6"
  }
 },
 "nbformat": 4,
 "nbformat_minor": 5
}
